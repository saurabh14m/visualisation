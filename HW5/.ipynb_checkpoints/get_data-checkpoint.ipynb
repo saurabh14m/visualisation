{
 "metadata": {
  "name": "",
  "signature": "sha256:20d87d52bb73b0cf90e0ca30406db28456cefbeb603e11ebbaa8b0f4b82c02cf"
 },
 "nbformat": 3,
 "nbformat_minor": 0,
 "worksheets": [
  {
   "cells": [
    {
     "cell_type": "code",
     "collapsed": false,
     "input": [
      "%matplotlib inline \n",
      "\n",
      "import numpy as np\n",
      "import pandas as pd\n",
      "\n",
      "from matplotlib import rcParams\n",
      "\n",
      "rcParams['figure.figsize'] = (10, 6)\n",
      "rcParams['figure.dpi'] = 150\n",
      "rcParams['lines.linewidth'] = 2\n",
      "rcParams['axes.grid'] = True\n",
      "rcParams['axes.facecolor'] = '#eeeeee'\n",
      "rcParams['font.size'] = 14\n",
      "rcParams['patch.edgecolor'] = 'none'\n",
      "\n",
      "pd.set_option('display.height', 500)\n",
      "pd.set_option('display.max_rows', 500)\n",
      "pd.set_option('display.max_columns', 500)\n",
      "pd.set_option('display.width', 200)"
     ],
     "language": "python",
     "metadata": {},
     "outputs": [],
     "prompt_number": 76
    },
    {
     "cell_type": "code",
     "collapsed": false,
     "input": [
      "population_growth = pd.read_csv(\"data/raw/population_raw.csv\")\n",
      "population_growth = population_growth[[\"County\", \"Census\", \"Estimates Base\", \"2010\", \"2011\", \"2012\", \"2013\"]]"
     ],
     "language": "python",
     "metadata": {},
     "outputs": [],
     "prompt_number": 77
    },
    {
     "cell_type": "code",
     "collapsed": false,
     "input": [
      "population_growth[\"County\"] = [str(x.replace(\"County\", \"\")) for x in population_growth[\"County\"]]\n",
      "population_growth[\"Census\"] = [x.replace(\",\", \"\") for x in population_growth[\"Census\"]]\n",
      "population_growth[\"Estimates Base\"] = [x.replace(\",\", \"\") for x in population_growth[\"Estimates Base\"]]\n",
      "\n",
      "population_growth[\"State\"] = [z[1][1:] for z in [y.split(',') for y in [x.strip(\"\") for x in population_growth[\"County\"]]]]\n",
      "population_growth[\"County\"] = [z[0].replace(\" \",\"\") for z in [y.split(',') for y in [x.strip(\"\") for x in population_growth[\"County\"]]]]\n",
      "\n",
      "population_growth[\"2010\"] = [x.replace(\",\", \"\") for x in population_growth[\"2010\"]]\n",
      "population_growth[\"2011\"] = [x.replace(\",\", \"\") for x in population_growth[\"2011\"]]\n",
      "population_growth[\"2012\"] = [x.replace(\",\", \"\") for x in population_growth[\"2012\"]]\n",
      "population_growth[\"2013\"] = [x.replace(\",\", \"\") for x in population_growth[\"2013\"]]"
     ],
     "language": "python",
     "metadata": {},
     "outputs": [],
     "prompt_number": 78
    },
    {
     "cell_type": "code",
     "collapsed": false,
     "input": [
      "d = {}\n",
      "\n",
      "for j in range(50):\n",
      "    year = 2013 + j\n",
      "    my_list = []\n",
      "    for i in population_growth.index:\n",
      "        x = [2010, 2011, 2012, 2013]\n",
      "        y = population_growth[population_growth.index == i][[\"2010\", \"2011\", \"2012\", \"2013\"]].values[0].astype(float)\n",
      "        z = np.polyfit(x, y, 1)\n",
      "        p = np.poly1d(z)\n",
      "        my_list.append(p(year))\n",
      "    population_growth[str(year)] = my_list"
     ],
     "language": "python",
     "metadata": {},
     "outputs": [
      {
       "ename": "KeyboardInterrupt",
       "evalue": "",
       "output_type": "pyerr",
       "traceback": [
        "\u001b[1;31m---------------------------------------------------------------------------\u001b[0m\n\u001b[1;31mKeyboardInterrupt\u001b[0m                         Traceback (most recent call last)",
        "\u001b[1;32m<ipython-input-79-625f908556cf>\u001b[0m in \u001b[0;36m<module>\u001b[1;34m()\u001b[0m\n\u001b[0;32m      6\u001b[0m     \u001b[1;32mfor\u001b[0m \u001b[0mi\u001b[0m \u001b[1;32min\u001b[0m \u001b[0mpopulation_growth\u001b[0m\u001b[1;33m.\u001b[0m\u001b[0mindex\u001b[0m\u001b[1;33m:\u001b[0m\u001b[1;33m\u001b[0m\u001b[0m\n\u001b[0;32m      7\u001b[0m         \u001b[0mx\u001b[0m \u001b[1;33m=\u001b[0m \u001b[1;33m[\u001b[0m\u001b[1;36m2010\u001b[0m\u001b[1;33m,\u001b[0m \u001b[1;36m2011\u001b[0m\u001b[1;33m,\u001b[0m \u001b[1;36m2012\u001b[0m\u001b[1;33m,\u001b[0m \u001b[1;36m2013\u001b[0m\u001b[1;33m]\u001b[0m\u001b[1;33m\u001b[0m\u001b[0m\n\u001b[1;32m----> 8\u001b[1;33m         \u001b[0my\u001b[0m \u001b[1;33m=\u001b[0m \u001b[0mpopulation_growth\u001b[0m\u001b[1;33m[\u001b[0m\u001b[0mpopulation_growth\u001b[0m\u001b[1;33m.\u001b[0m\u001b[0mindex\u001b[0m \u001b[1;33m==\u001b[0m \u001b[0mi\u001b[0m\u001b[1;33m]\u001b[0m\u001b[1;33m[\u001b[0m\u001b[1;33m[\u001b[0m\u001b[1;34m\"2010\"\u001b[0m\u001b[1;33m,\u001b[0m \u001b[1;34m\"2011\"\u001b[0m\u001b[1;33m,\u001b[0m \u001b[1;34m\"2012\"\u001b[0m\u001b[1;33m,\u001b[0m \u001b[1;34m\"2013\"\u001b[0m\u001b[1;33m]\u001b[0m\u001b[1;33m]\u001b[0m\u001b[1;33m.\u001b[0m\u001b[0mvalues\u001b[0m\u001b[1;33m[\u001b[0m\u001b[1;36m0\u001b[0m\u001b[1;33m]\u001b[0m\u001b[1;33m.\u001b[0m\u001b[0mastype\u001b[0m\u001b[1;33m(\u001b[0m\u001b[0mfloat\u001b[0m\u001b[1;33m)\u001b[0m\u001b[1;33m\u001b[0m\u001b[0m\n\u001b[0m\u001b[0;32m      9\u001b[0m         \u001b[0mz\u001b[0m \u001b[1;33m=\u001b[0m \u001b[0mnp\u001b[0m\u001b[1;33m.\u001b[0m\u001b[0mpolyfit\u001b[0m\u001b[1;33m(\u001b[0m\u001b[0mx\u001b[0m\u001b[1;33m,\u001b[0m \u001b[0my\u001b[0m\u001b[1;33m,\u001b[0m \u001b[1;36m1\u001b[0m\u001b[1;33m)\u001b[0m\u001b[1;33m\u001b[0m\u001b[0m\n\u001b[0;32m     10\u001b[0m         \u001b[0mp\u001b[0m \u001b[1;33m=\u001b[0m \u001b[0mnp\u001b[0m\u001b[1;33m.\u001b[0m\u001b[0mpoly1d\u001b[0m\u001b[1;33m(\u001b[0m\u001b[0mz\u001b[0m\u001b[1;33m)\u001b[0m\u001b[1;33m\u001b[0m\u001b[0m\n",
        "\u001b[1;32mC:\\Anaconda\\lib\\site-packages\\pandas\\core\\index.pyc\u001b[0m in \u001b[0;36mwrapper\u001b[1;34m(self, other)\u001b[0m\n\u001b[0;32m     35\u001b[0m     \u001b[1;32mdef\u001b[0m \u001b[0mwrapper\u001b[0m\u001b[1;33m(\u001b[0m\u001b[0mself\u001b[0m\u001b[1;33m,\u001b[0m \u001b[0mother\u001b[0m\u001b[1;33m)\u001b[0m\u001b[1;33m:\u001b[0m\u001b[1;33m\u001b[0m\u001b[0m\n\u001b[0;32m     36\u001b[0m         \u001b[0mfunc\u001b[0m \u001b[1;33m=\u001b[0m \u001b[0mgetattr\u001b[0m\u001b[1;33m(\u001b[0m\u001b[0mself\u001b[0m\u001b[1;33m.\u001b[0m\u001b[0mview\u001b[0m\u001b[1;33m(\u001b[0m\u001b[0mnp\u001b[0m\u001b[1;33m.\u001b[0m\u001b[0mndarray\u001b[0m\u001b[1;33m)\u001b[0m\u001b[1;33m,\u001b[0m \u001b[0mopname\u001b[0m\u001b[1;33m)\u001b[0m\u001b[1;33m\u001b[0m\u001b[0m\n\u001b[1;32m---> 37\u001b[1;33m         \u001b[0mresult\u001b[0m \u001b[1;33m=\u001b[0m \u001b[0mfunc\u001b[0m\u001b[1;33m(\u001b[0m\u001b[0mother\u001b[0m\u001b[1;33m)\u001b[0m\u001b[1;33m\u001b[0m\u001b[0m\n\u001b[0m\u001b[0;32m     38\u001b[0m         \u001b[1;32mtry\u001b[0m\u001b[1;33m:\u001b[0m\u001b[1;33m\u001b[0m\u001b[0m\n\u001b[0;32m     39\u001b[0m             \u001b[1;32mreturn\u001b[0m \u001b[0mresult\u001b[0m\u001b[1;33m.\u001b[0m\u001b[0mview\u001b[0m\u001b[1;33m(\u001b[0m\u001b[0mnp\u001b[0m\u001b[1;33m.\u001b[0m\u001b[0mndarray\u001b[0m\u001b[1;33m)\u001b[0m\u001b[1;33m\u001b[0m\u001b[0m\n",
        "\u001b[1;31mKeyboardInterrupt\u001b[0m: "
       ]
      }
     ],
     "prompt_number": 79
    },
    {
     "cell_type": "code",
     "collapsed": false,
     "input": [
      "population_growth.to_csv(\"data/clean/population_growth.csv\", index=False)\n",
      "\n",
      "population_growth.head()"
     ],
     "language": "python",
     "metadata": {},
     "outputs": []
    },
    {
     "cell_type": "code",
     "collapsed": false,
     "input": [
      "state_demographics = pd.read_csv(\"data/raw/state_demographics_raw.csv\", index_col=0)\n",
      "\n",
      "state_demographics[\"Black\"] = [float(x.replace(\"NSD\", \"0\")) for x in state_demographics[\"Black\"].values]\n",
      "state_demographics[\"White\"] = [float(x)*100 for x in state_demographics[\"White\"].values]\n",
      "state_demographics[\"Black\"] = [float(x)*100 for x in state_demographics[\"Black\"].values]\n",
      "state_demographics[\"Hispanic\"] = [float(x)*100 for x in state_demographics[\"Hispanic\"].values]\n",
      "state_demographics[\"Other\"] = [float(x)*100 for x in state_demographics[\"Other\"].values]\n",
      "state_demographics[\"Total\"] = [float(x)*100 for x in state_demographics[\"Total\"].values]\n",
      "\n",
      "state_demographics.to_csv(\"data/clean/states_demographics.csv\", index=False)\n",
      "\n",
      "state_demographics.head()"
     ],
     "language": "python",
     "metadata": {},
     "outputs": []
    },
    {
     "cell_type": "code",
     "collapsed": false,
     "input": [
      "growth_rates = pd.read_csv(\"data/raw/growth_rates_raw.csv\")\n",
      "\n",
      "growth_rates[\"percentage_change\"] = growth_rates[\"2060\"] - growth_rates[\"2015\"]\n",
      "growth_rates[\"yearly_rate\"] = growth_rates[\"percentage_change\"]/45\n",
      "\n",
      "growth_rates.to_csv(\"data/clean/growth_rates.csv\", index=False)\n",
      "\n",
      "growth_rates"
     ],
     "language": "python",
     "metadata": {},
     "outputs": []
    },
    {
     "cell_type": "code",
     "collapsed": false,
     "input": [
      "for i in [2012, 2013, 2014, 2015, 2016, 2017, 2018, 2019, 2020, 2021, 2022, 2023, 2014, 2025, 2026, 2027, 2029, 2030]:\n",
      "    growth_rates[i] = growth_rates[\"2015\"] + growth_rates[\"yearly_rate\"]*(i-2015)\n",
      "    \n",
      "growth_rates[growth_rates.Demographic == \"Hispanics\"].values"
     ],
     "language": "python",
     "metadata": {},
     "outputs": []
    },
    {
     "cell_type": "code",
     "collapsed": false,
     "input": [],
     "language": "python",
     "metadata": {},
     "outputs": []
    }
   ],
   "metadata": {}
  }
 ]
}
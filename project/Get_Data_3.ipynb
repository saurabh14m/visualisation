{
 "metadata": {
  "name": ""
 },
 "nbformat": 3,
 "nbformat_minor": 0,
 "worksheets": [
  {
   "cells": [
    {
     "cell_type": "code",
     "collapsed": false,
     "input": [
      "import re\n",
      "import fnmatch\n",
      "import requests\n",
      "import pandas as pd\n",
      "from bs4 import BeautifulSoup\n",
      "\n",
      "xml = requests.get(\"http://en.wikipedia.org/wiki/World_population_estimates\").text\n",
      "\n",
      "#with open(\"xml.txt\", \"wb\") as file:\n",
      "#   file.write(xml.encode(\"UTF-8\"))\n",
      "\n",
      "soup = BeautifulSoup(xml)\n",
      "\n",
      "i=0\n",
      "data = {}\n",
      "\n",
      "table = soup.find(\"table\", {\"class\" : \"wikitable\"})\n",
      "\n",
      "for tr in table.find_all(\"tr\"):\n",
      "    \n",
      "    columns = []\n",
      "    \n",
      "    for th in tr.find_all(\"th\")[:6]:\n",
      "        columns.append(th.text)\n",
      "        columns = [re.sub(\"^[^a-zA-z]*|[^a-zA-Z]*$\",\"\", s) for s in columns]\n",
      "    \n",
      "    for td in tr.find_all(\"td\")[:6]:\n",
      "        columns.append(td.text)\n",
      "        \n",
      "    data[i] = columns\n",
      "    \n",
      "    i+=1\n",
      "    \n",
      "df = pd.DataFrame(data).set_index(0).T.set_index(\"Year\")\n",
      "\n",
      "for col in df.columns:\n",
      "    df[col] = df[col].str.encode(\"UTF-8\")\n",
      "    df[col] = df[col].str.replace(\",\", \"\")\n",
      "    df[col] = df[col].str.replace(\".\", \"\")\n",
      "\n",
      "df.to_csv(\"file.txt\", encoding=\"utf-8\")"
     ],
     "language": "python",
     "metadata": {},
     "outputs": [],
     "prompt_number": 239
    }
   ],
   "metadata": {}
  }
 ]
}